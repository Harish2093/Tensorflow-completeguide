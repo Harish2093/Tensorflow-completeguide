{
  "nbformat": 4,
  "nbformat_minor": 0,
  "metadata": {
    "colab": {
      "name": "tensorflow-transferlearning.ipynb",
      "provenance": [],
      "collapsed_sections": []
    },
    "kernelspec": {
      "name": "python3",
      "display_name": "Python 3"
    }
  },
  "cells": [
    {
      "cell_type": "markdown",
      "metadata": {
        "id": "Djpio_plBEK3",
        "colab_type": "text"
      },
      "source": [
        "Lets perform the transfer learning\n"
      ]
    },
    {
      "cell_type": "markdown",
      "metadata": {
        "id": "0IXNLpWoBRjy",
        "colab_type": "text"
      },
      "source": [
        "# Download the dataset"
      ]
    },
    {
      "cell_type": "code",
      "metadata": {
        "id": "YU0U8AfvBAk2",
        "colab_type": "code",
        "colab": {
          "base_uri": "https://localhost:8080/",
          "height": 204
        },
        "outputId": "fc3a4b9d-6cd3-4057-d639-67122b053d88"
      },
      "source": [
        "!wget --no-check-certificate \\\n",
        "    https://storage.googleapis.com/mledu-datasets/cats_and_dogs_filtered.zip \\\n",
        "    -O ./cats_and_dogs_filtered.zip"
      ],
      "execution_count": 40,
      "outputs": [
        {
          "output_type": "stream",
          "text": [
            "--2020-07-05 09:00:14--  https://storage.googleapis.com/mledu-datasets/cats_and_dogs_filtered.zip\n",
            "Resolving storage.googleapis.com (storage.googleapis.com)... 74.125.203.128, 74.125.204.128, 64.233.189.128, ...\n",
            "Connecting to storage.googleapis.com (storage.googleapis.com)|74.125.203.128|:443... connected.\n",
            "HTTP request sent, awaiting response... 200 OK\n",
            "Length: 68606236 (65M) [application/zip]\n",
            "Saving to: ‘./cats_and_dogs_filtered.zip’\n",
            "\n",
            "\r          ./cats_an   0%[                    ]       0  --.-KB/s               \r         ./cats_and  66%[============>       ]  43.27M   216MB/s               \r        ./cats_and_  85%[================>   ]  56.01M   114MB/s               \r./cats_and_dogs_fil 100%[===================>]  65.43M   124MB/s    in 0.5s    \n",
            "\n",
            "2020-07-05 09:00:15 (124 MB/s) - ‘./cats_and_dogs_filtered.zip’ saved [68606236/68606236]\n",
            "\n"
          ],
          "name": "stdout"
        }
      ]
    },
    {
      "cell_type": "markdown",
      "metadata": {
        "id": "KkU09EWhBZkg",
        "colab_type": "text"
      },
      "source": [
        "# Dataset preprocessing\n",
        "## import the dependencies"
      ]
    },
    {
      "cell_type": "code",
      "metadata": {
        "id": "jT_FtfkvBU12",
        "colab_type": "code",
        "colab": {
          "base_uri": "https://localhost:8080/",
          "height": 35
        },
        "outputId": "410d0400-2741-4617-c07a-dcf9fe7cd1e3"
      },
      "source": [
        "import os\n",
        "import zipfile\n",
        "import numpy as np\n",
        "import tensorflow as tf\n",
        "import matplotlib.pyplot as plt\n",
        "\n",
        "from tqdm import tqdm_notebook\n",
        "from tensorflow.keras.preprocessing.image import ImageDataGenerator\n",
        "\n",
        "%matplotlib inline\n",
        "tf.__version__"
      ],
      "execution_count": 41,
      "outputs": [
        {
          "output_type": "execute_result",
          "data": {
            "application/vnd.google.colaboratory.intrinsic": {
              "type": "string"
            },
            "text/plain": [
              "'2.2.0'"
            ]
          },
          "metadata": {
            "tags": []
          },
          "execution_count": 41
        }
      ]
    },
    {
      "cell_type": "markdown",
      "metadata": {
        "id": "qsTiE5HOBsIS",
        "colab_type": "text"
      },
      "source": [
        "## unzip the downloaded data"
      ]
    },
    {
      "cell_type": "code",
      "metadata": {
        "id": "7uz6-a0GBjIc",
        "colab_type": "code",
        "colab": {}
      },
      "source": [
        "dataset_path = \"./cats_and_dogs_filtered.zip\"\n",
        "zip_object = zipfile.ZipFile(file=dataset_path, mode=\"r\")\n",
        "zip_object.extractall(\"./\")\n",
        "zip_object.close()"
      ],
      "execution_count": 42,
      "outputs": []
    },
    {
      "cell_type": "code",
      "metadata": {
        "id": "tYcPo1iEBwyu",
        "colab_type": "code",
        "colab": {}
      },
      "source": [
        "dataset_path_new = \"./cats_and_dogs_filtered/\""
      ],
      "execution_count": 43,
      "outputs": []
    },
    {
      "cell_type": "code",
      "metadata": {
        "id": "OPoQmY2OB1Is",
        "colab_type": "code",
        "colab": {}
      },
      "source": [
        "train_dir = os.path.join(dataset_path_new, \"train\")\n",
        "validation_dir = os.path.join(dataset_path_new, \"validation\")"
      ],
      "execution_count": 44,
      "outputs": []
    },
    {
      "cell_type": "markdown",
      "metadata": {
        "id": "QhlWC3KlB5MW",
        "colab_type": "text"
      },
      "source": [
        "# Building the model"
      ]
    },
    {
      "cell_type": "markdown",
      "metadata": {
        "id": "dZlEzQwHB-Gb",
        "colab_type": "text"
      },
      "source": [
        "# Loading the pretrained model (MobileNetV2)"
      ]
    },
    {
      "cell_type": "code",
      "metadata": {
        "id": "f1vQwhskB1hN",
        "colab_type": "code",
        "colab": {}
      },
      "source": [
        "IMG_SHAPE = (128, 128, 3)\n",
        "base_model = tf.keras.applications.MobileNetV2(input_shape=IMG_SHAPE, include_top=False, weights=\"imagenet\")\n",
        "# base_model.summary()"
      ],
      "execution_count": 45,
      "outputs": []
    },
    {
      "cell_type": "markdown",
      "metadata": {
        "id": "xWWVJT1ZCM_f",
        "colab_type": "text"
      },
      "source": [
        "## Freezing the base model"
      ]
    },
    {
      "cell_type": "code",
      "metadata": {
        "id": "Iga1te5sCKTU",
        "colab_type": "code",
        "colab": {}
      },
      "source": [
        "base_model.trainable = False"
      ],
      "execution_count": 46,
      "outputs": []
    },
    {
      "cell_type": "markdown",
      "metadata": {
        "id": "bjgkqgQMCTYq",
        "colab_type": "text"
      },
      "source": [
        "## Defining the custome head i.e. the last layer of out network"
      ]
    },
    {
      "cell_type": "code",
      "metadata": {
        "id": "mV_YB3pfCREW",
        "colab_type": "code",
        "colab": {
          "base_uri": "https://localhost:8080/",
          "height": 34
        },
        "outputId": "2c8685ad-6250-4300-8894-4e28dbfcae26"
      },
      "source": [
        "base_model.output"
      ],
      "execution_count": 47,
      "outputs": [
        {
          "output_type": "execute_result",
          "data": {
            "text/plain": [
              "<tf.Tensor 'out_relu_2/Identity:0' shape=(None, 4, 4, 1280) dtype=float32>"
            ]
          },
          "metadata": {
            "tags": []
          },
          "execution_count": 47
        }
      ]
    },
    {
      "cell_type": "code",
      "metadata": {
        "id": "XIqal_xVCgS4",
        "colab_type": "code",
        "colab": {}
      },
      "source": [
        "global_average_layer = tf.keras.layers.GlobalAveragePooling2D()(base_model.output)"
      ],
      "execution_count": 48,
      "outputs": []
    },
    {
      "cell_type": "code",
      "metadata": {
        "id": "hhoaXfg6ChdV",
        "colab_type": "code",
        "colab": {
          "base_uri": "https://localhost:8080/",
          "height": 34
        },
        "outputId": "5f25208f-e7f5-4ed8-eb9e-65e294fde362"
      },
      "source": [
        "global_average_layer"
      ],
      "execution_count": 49,
      "outputs": [
        {
          "output_type": "execute_result",
          "data": {
            "text/plain": [
              "<tf.Tensor 'global_average_pooling2d_2/Identity:0' shape=(None, 1280) dtype=float32>"
            ]
          },
          "metadata": {
            "tags": []
          },
          "execution_count": 49
        }
      ]
    },
    {
      "cell_type": "code",
      "metadata": {
        "id": "w1tP78ShCiiS",
        "colab_type": "code",
        "colab": {}
      },
      "source": [
        "prediction_layer = tf.keras.layers.Dense(units=1, activation='sigmoid')(global_average_layer)"
      ],
      "execution_count": 50,
      "outputs": []
    },
    {
      "cell_type": "markdown",
      "metadata": {
        "id": "TETlMcUqCmL0",
        "colab_type": "text"
      },
      "source": [
        "## Defining the model"
      ]
    },
    {
      "cell_type": "code",
      "metadata": {
        "id": "jYqVhM7SCkGQ",
        "colab_type": "code",
        "colab": {}
      },
      "source": [
        "model = tf.keras.models.Model(inputs=base_model.input, outputs=prediction_layer)\n",
        "#model.summary"
      ],
      "execution_count": 51,
      "outputs": []
    },
    {
      "cell_type": "markdown",
      "metadata": {
        "id": "aVRuI7-HCtQ-",
        "colab_type": "text"
      },
      "source": [
        "## Compiling the model"
      ]
    },
    {
      "cell_type": "code",
      "metadata": {
        "id": "gnn0gsCnCqlG",
        "colab_type": "code",
        "colab": {}
      },
      "source": [
        "model.compile(optimizer=tf.keras.optimizers.RMSprop(lr=0.0001), loss=\"binary_crossentropy\", metrics=[\"accuracy\"])"
      ],
      "execution_count": 52,
      "outputs": []
    },
    {
      "cell_type": "markdown",
      "metadata": {
        "id": "d4P_y4SPC0Fu",
        "colab_type": "text"
      },
      "source": [
        "## Creating Data Generators\n",
        "Resizing images"
      ]
    },
    {
      "cell_type": "code",
      "metadata": {
        "id": "8QYD-D6KC3fa",
        "colab_type": "code",
        "colab": {}
      },
      "source": [
        "data_gen_train = ImageDataGenerator(rescale=1/255.)\n",
        "data_gen_valid = ImageDataGenerator(rescale=1/255.)"
      ],
      "execution_count": 53,
      "outputs": []
    },
    {
      "cell_type": "code",
      "metadata": {
        "id": "rRkVseNvC5iG",
        "colab_type": "code",
        "colab": {
          "base_uri": "https://localhost:8080/",
          "height": 51
        },
        "outputId": "fd872071-1be6-4ec2-98b7-9472ad64e228"
      },
      "source": [
        "train_generator = data_gen_train.flow_from_directory(train_dir, target_size=(128,128), batch_size=128, class_mode=\"binary\")\n",
        "valid_generator = data_gen_valid.flow_from_directory(validation_dir, target_size=(128,128), batch_size=128, class_mode=\"binary\")"
      ],
      "execution_count": 54,
      "outputs": [
        {
          "output_type": "stream",
          "text": [
            "Found 2000 images belonging to 2 classes.\n",
            "Found 1000 images belonging to 2 classes.\n"
          ],
          "name": "stdout"
        }
      ]
    },
    {
      "cell_type": "markdown",
      "metadata": {
        "id": "yddEslN5C_L3",
        "colab_type": "text"
      },
      "source": [
        "## Training the model"
      ]
    },
    {
      "cell_type": "code",
      "metadata": {
        "id": "fpYuE0R-C72H",
        "colab_type": "code",
        "colab": {
          "base_uri": "https://localhost:8080/",
          "height": 204
        },
        "outputId": "95966008-fa63-46ad-bff4-04a2348323b2"
      },
      "source": [
        "model.fit(train_generator, epochs=5, validation_data=valid_generator)"
      ],
      "execution_count": 55,
      "outputs": [
        {
          "output_type": "stream",
          "text": [
            "Epoch 1/5\n",
            "16/16 [==============================] - 36s 2s/step - loss: 0.7056 - accuracy: 0.6120 - val_loss: 0.6399 - val_accuracy: 0.6460\n",
            "Epoch 2/5\n",
            "16/16 [==============================] - 35s 2s/step - loss: 0.5804 - accuracy: 0.7065 - val_loss: 0.5449 - val_accuracy: 0.7340\n",
            "Epoch 3/5\n",
            "16/16 [==============================] - 36s 2s/step - loss: 0.4990 - accuracy: 0.7725 - val_loss: 0.4739 - val_accuracy: 0.7870\n",
            "Epoch 4/5\n",
            "16/16 [==============================] - 35s 2s/step - loss: 0.4374 - accuracy: 0.8250 - val_loss: 0.4155 - val_accuracy: 0.8370\n",
            "Epoch 5/5\n",
            "16/16 [==============================] - 35s 2s/step - loss: 0.3866 - accuracy: 0.8510 - val_loss: 0.3672 - val_accuracy: 0.8750\n"
          ],
          "name": "stdout"
        },
        {
          "output_type": "execute_result",
          "data": {
            "text/plain": [
              "<tensorflow.python.keras.callbacks.History at 0x7f2d9c57fa20>"
            ]
          },
          "metadata": {
            "tags": []
          },
          "execution_count": 55
        }
      ]
    },
    {
      "cell_type": "markdown",
      "metadata": {
        "id": "YyHP9zkeDN4x",
        "colab_type": "text"
      },
      "source": [
        "## Transfer learning model evaluation"
      ]
    },
    {
      "cell_type": "code",
      "metadata": {
        "id": "GRKiISr_DBy4",
        "colab_type": "code",
        "colab": {
          "base_uri": "https://localhost:8080/",
          "height": 51
        },
        "outputId": "443f2772-b321-4871-e69d-11c1d2ceb6ba"
      },
      "source": [
        "valid_loss, valid_accuracy = model.evaluate(valid_generator)\n",
        "print(\"Accuracy after transfer learning: {}\".format(valid_accuracy))"
      ],
      "execution_count": 56,
      "outputs": [
        {
          "output_type": "stream",
          "text": [
            "8/8 [==============================] - 10s 1s/step - loss: 0.3672 - accuracy: 0.8750\n",
            "Accuracy after transfer learning: 0.875\n"
          ],
          "name": "stdout"
        }
      ]
    },
    {
      "cell_type": "markdown",
      "metadata": {
        "id": "Wlpv2yVuEcFg",
        "colab_type": "text"
      },
      "source": [
        "# Fine tuning\n",
        "\n",
        "## Un-freeze a few top layers from the model"
      ]
    },
    {
      "cell_type": "code",
      "metadata": {
        "id": "DVrP2xHjEhJD",
        "colab_type": "code",
        "colab": {}
      },
      "source": [
        "base_model.trainable = True"
      ],
      "execution_count": 57,
      "outputs": []
    },
    {
      "cell_type": "code",
      "metadata": {
        "id": "DNwhgS5kEkY3",
        "colab_type": "code",
        "colab": {
          "base_uri": "https://localhost:8080/",
          "height": 34
        },
        "outputId": "f619c1e5-6130-4586-a0c1-0949ca80d69f"
      },
      "source": [
        "print(\"Number of layersin the base model: {}\".format(len(base_model.layers)))"
      ],
      "execution_count": 58,
      "outputs": [
        {
          "output_type": "stream",
          "text": [
            "Number of layersin the base model: 155\n"
          ],
          "name": "stdout"
        }
      ]
    },
    {
      "cell_type": "code",
      "metadata": {
        "id": "H8AM3_OYEkoH",
        "colab_type": "code",
        "colab": {}
      },
      "source": [
        "fine_tune_at = 100"
      ],
      "execution_count": 59,
      "outputs": []
    },
    {
      "cell_type": "code",
      "metadata": {
        "id": "wqCQIr_iEmFH",
        "colab_type": "code",
        "colab": {}
      },
      "source": [
        "for layer in base_model.layers[:fine_tune_at]:\n",
        "    layer.trainable = False"
      ],
      "execution_count": 60,
      "outputs": []
    },
    {
      "cell_type": "markdown",
      "metadata": {
        "id": "5sYXjvlMEqev",
        "colab_type": "text"
      },
      "source": [
        "## Compiling the model for fine-*tuning*"
      ]
    },
    {
      "cell_type": "code",
      "metadata": {
        "id": "Eg6oNX3uEoT2",
        "colab_type": "code",
        "colab": {}
      },
      "source": [
        "model.compile(optimizer=tf.keras.optimizers.RMSprop(lr=0.0001),\n",
        "              loss='binary_crossentropy',\n",
        "              metrics=['accuracy'])"
      ],
      "execution_count": 61,
      "outputs": []
    },
    {
      "cell_type": "markdown",
      "metadata": {
        "id": "DHfJleirExkh",
        "colab_type": "text"
      },
      "source": [
        "## fine tuning"
      ]
    },
    {
      "cell_type": "code",
      "metadata": {
        "id": "fzXyd37PEvjb",
        "colab_type": "code",
        "colab": {
          "base_uri": "https://localhost:8080/",
          "height": 204
        },
        "outputId": "53f64f99-5a98-437d-a940-200187cbee58"
      },
      "source": [
        "model.fit(train_generator,  \n",
        "                    epochs=5, \n",
        "                    validation_data=valid_generator)"
      ],
      "execution_count": 62,
      "outputs": [
        {
          "output_type": "stream",
          "text": [
            "Epoch 1/5\n",
            "16/16 [==============================] - 58s 4s/step - loss: 0.2126 - accuracy: 0.9065 - val_loss: 0.1408 - val_accuracy: 0.9490\n",
            "Epoch 2/5\n",
            "16/16 [==============================] - 57s 4s/step - loss: 0.0308 - accuracy: 0.9970 - val_loss: 0.1326 - val_accuracy: 0.9550\n",
            "Epoch 3/5\n",
            "16/16 [==============================] - 57s 4s/step - loss: 0.0116 - accuracy: 1.0000 - val_loss: 0.1697 - val_accuracy: 0.9510\n",
            "Epoch 4/5\n",
            "16/16 [==============================] - 57s 4s/step - loss: 0.0033 - accuracy: 1.0000 - val_loss: 0.1652 - val_accuracy: 0.9520\n",
            "Epoch 5/5\n",
            "16/16 [==============================] - 57s 4s/step - loss: 0.0020 - accuracy: 1.0000 - val_loss: 0.2511 - val_accuracy: 0.9480\n"
          ],
          "name": "stdout"
        },
        {
          "output_type": "execute_result",
          "data": {
            "text/plain": [
              "<tensorflow.python.keras.callbacks.History at 0x7f2d9ac090b8>"
            ]
          },
          "metadata": {
            "tags": []
          },
          "execution_count": 62
        }
      ]
    },
    {
      "cell_type": "markdown",
      "metadata": {
        "id": "t72x0zEiE8W_",
        "colab_type": "text"
      },
      "source": [
        "## Evaluating the fine tuned model"
      ]
    },
    {
      "cell_type": "code",
      "metadata": {
        "id": "yINxwQfwE3Ap",
        "colab_type": "code",
        "colab": {
          "base_uri": "https://localhost:8080/",
          "height": 51
        },
        "outputId": "0a996f42-cb44-4c05-fc54-aeb6145b512e"
      },
      "source": [
        "valid_loss, valid_accuracy = model.evaluate(valid_generator)\n",
        "print(\"Validation accuracy after fine tuning: {}\".format(valid_accuracy))"
      ],
      "execution_count": 63,
      "outputs": [
        {
          "output_type": "stream",
          "text": [
            "8/8 [==============================] - 10s 1s/step - loss: 0.2511 - accuracy: 0.9480\n",
            "Validation accuracy after fine tuning: 0.9480000138282776\n"
          ],
          "name": "stdout"
        }
      ]
    },
    {
      "cell_type": "code",
      "metadata": {
        "id": "mNBpRW0uFY6H",
        "colab_type": "code",
        "colab": {}
      },
      "source": [
        ""
      ],
      "execution_count": 63,
      "outputs": []
    }
  ]
}